{
  "nbformat": 4,
  "nbformat_minor": 0,
  "metadata": {
    "colab": {
      "provenance": [],
      "authorship_tag": "ABX9TyP1EBB7UO8ZhHGhib+NzgAp",
      "include_colab_link": true
    },
    "kernelspec": {
      "name": "python3",
      "display_name": "Python 3"
    },
    "language_info": {
      "name": "python"
    }
  },
  "cells": [
    {
      "cell_type": "markdown",
      "metadata": {
        "id": "view-in-github",
        "colab_type": "text"
      },
      "source": [
        "<a href=\"https://colab.research.google.com/github/MarcoCabral17/Marco-Cabral./blob/main/Hash.ipynb\" target=\"_parent\"><img src=\"https://colab.research.google.com/assets/colab-badge.svg\" alt=\"Open In Colab\"/></a>"
      ]
    },
    {
      "cell_type": "code",
      "execution_count": 1,
      "metadata": {
        "colab": {
          "base_uri": "https://localhost:8080/"
        },
        "id": "Ad5B0yuU_HIv",
        "outputId": "5adc68cf-5531-4423-d55f-386e2cb0981f"
      },
      "outputs": [
        {
          "output_type": "stream",
          "name": "stdout",
          "text": [
            "Ingresa el nombre de la fruta que quieres buscar: manzana\n",
            "0 :  None\n",
            "1 :  None\n",
            "2 :  None\n",
            "3 :  ['uva']\n",
            "4 :  ['kiwi', 'pera']\n",
            "5 :  ['fresa', 'mango', 'melón']\n",
            "6 :  ['sandía']\n",
            "7 :  ['manzana', 'plátano', 'naranja']\n",
            "8 :  None\n",
            "9 :  None\n",
            "La fruta manzana se encuentra en la tabla hash.\n"
          ]
        }
      ],
      "source": [
        "def hash_fruit(fruit):\n",
        "    return len(fruit) % 10\n",
        "\n",
        "fruit_names = [\"manzana\", \"plátano\", \"naranja\", \"fresa\", \"mango\", \"sandía\", \"melón\", \"kiwi\", \"pera\", \"uva\"]\n",
        "fruit_table = [None] * 10\n",
        "\n",
        "for fruit in fruit_names:\n",
        "    index = hash_fruit(fruit)\n",
        "    if fruit_table[index] is None:\n",
        "        fruit_table[index] = [fruit]\n",
        "    else:\n",
        "        fruit_table[index].append(fruit)\n",
        "\n",
        "# Pedir al usuario que busque una fruta\n",
        "fruit_to_find = input(\"Ingresa el nombre de la fruta que quieres buscar: \")\n",
        "\n",
        "# Buscar la fruta en la tabla hash\n",
        "for index, value in enumerate(fruit_table):\n",
        "    print(index, \": \", value)\n",
        "index = hash_fruit(fruit_to_find)\n",
        "if fruit_table[index] is not None and fruit_to_find in fruit_table[index]:\n",
        "    print(\"La fruta\", fruit_to_find, \"se encuentra en la tabla hash.\")\n",
        "else:\n",
        "    print(\"La fruta\", fruit_to_find, \"no se encuentra en la tabla hash.\")"
      ]
    }
  ]
}