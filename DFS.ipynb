{
  "nbformat": 4,
  "nbformat_minor": 0,
  "metadata": {
    "colab": {
      "provenance": [],
      "authorship_tag": "ABX9TyOzJv5CC+KoCOeh1KxwS+Fu",
      "include_colab_link": true
    },
    "kernelspec": {
      "name": "python3",
      "display_name": "Python 3"
    },
    "language_info": {
      "name": "python"
    }
  },
  "cells": [
    {
      "cell_type": "markdown",
      "metadata": {
        "id": "view-in-github",
        "colab_type": "text"
      },
      "source": [
        "<a href=\"https://colab.research.google.com/github/MarcoCabral17/Marco-Cabral./blob/main/DFS.ipynb\" target=\"_parent\"><img src=\"https://colab.research.google.com/assets/colab-badge.svg\" alt=\"Open In Colab\"/></a>"
      ]
    },
    {
      "cell_type": "code",
      "execution_count": 1,
      "metadata": {
        "colab": {
          "base_uri": "https://localhost:8080/"
        },
        "id": "PZKR0afz0uct",
        "outputId": "a758ce6f-e444-425e-d3b0-280f4f4b69e9"
      },
      "outputs": [
        {
          "output_type": "stream",
          "name": "stdout",
          "text": [
            "Ruta encontrada: A -> B -> E -> F\n"
          ]
        }
      ],
      "source": [
        "import graphviz\n",
        "\n",
        "def dfs(grafo, inicio, destino, visitados=None, ruta=None):\n",
        "    if visitados is None:\n",
        "        visitados = set()\n",
        "    if ruta is None:\n",
        "        ruta = []\n",
        "\n",
        "    # Marcar el nodo actual como visitado\n",
        "    visitados.add(inicio)\n",
        "    ruta.append(inicio)\n",
        "\n",
        "    # Si hemos llegado al destino, devolver la ruta\n",
        "    if inicio == destino:\n",
        "        return ruta\n",
        "\n",
        "    # Recorrer los nodos adyacentes\n",
        "    for vecino in grafo[inicio]:\n",
        "        if vecino not in visitados:\n",
        "            resultado = dfs(grafo, vecino, destino, visitados, ruta)\n",
        "            if resultado:  # Si se encontró una ruta\n",
        "                return resultado\n",
        "\n",
        "    # Si no se encontró una ruta, retroceder\n",
        "    ruta.pop()\n",
        "    return None\n",
        "\n",
        "def visualizar_grafo(grafo, ruta=None, filename='grafo_dfs'):\n",
        "    dot = graphviz.Digraph(comment='Grafo DFS')\n",
        "\n",
        "    # Agregar nodos y aristas al grafo\n",
        "    for nodo, vecinos in grafo.items():\n",
        "        for vecino in vecinos:\n",
        "            dot.edge(nodo, vecino)\n",
        "\n",
        "    # Resaltar la ruta encontrada\n",
        "    if ruta:\n",
        "        for i in range(len(ruta) - 1):\n",
        "            dot.edge(ruta[i], ruta[i + 1], color='red', penwidth='2')\n",
        "\n",
        "    dot.render(filename, format='png', cleanup=True)\n",
        "\n",
        "# Ejemplo de uso\n",
        "grafo = {\n",
        "    'A': ['B', 'C'],\n",
        "    'B': ['A', 'D', 'E'],\n",
        "    'C': ['A', 'F'],\n",
        "    'D': ['B'],\n",
        "    'E': ['B', 'F'],\n",
        "    'F': ['C', 'E']\n",
        "}\n",
        "\n",
        "inicio = 'A'\n",
        "destino = 'F'\n",
        "ruta_encontrada = dfs(grafo, inicio, destino)\n",
        "\n",
        "if ruta_encontrada:\n",
        "    print(f\"Ruta encontrada: {' -> '.join(ruta_encontrada)}\")\n",
        "    visualizar_grafo(grafo, ruta_encontrada)\n",
        "else:\n",
        "    print(\"No se encontró una ruta.\")"
      ]
    }
  ]
}