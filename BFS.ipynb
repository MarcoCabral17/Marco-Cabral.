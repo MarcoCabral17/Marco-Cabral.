{
  "nbformat": 4,
  "nbformat_minor": 0,
  "metadata": {
    "colab": {
      "provenance": [],
      "authorship_tag": "ABX9TyNkOAF5r9B+KQSG+aHIN3NC",
      "include_colab_link": true
    },
    "kernelspec": {
      "name": "python3",
      "display_name": "Python 3"
    },
    "language_info": {
      "name": "python"
    }
  },
  "cells": [
    {
      "cell_type": "markdown",
      "metadata": {
        "id": "view-in-github",
        "colab_type": "text"
      },
      "source": [
        "<a href=\"https://colab.research.google.com/github/MarcoCabral17/Marco-Cabral./blob/main/BFS.ipynb\" target=\"_parent\"><img src=\"https://colab.research.google.com/assets/colab-badge.svg\" alt=\"Open In Colab\"/></a>"
      ]
    },
    {
      "cell_type": "code",
      "execution_count": 2,
      "metadata": {
        "colab": {
          "base_uri": "https://localhost:8080/"
        },
        "id": "P6Er6U1m44s8",
        "outputId": "45976baa-2eb4-4cf9-f3b8-c71523a956ee"
      },
      "outputs": [
        {
          "output_type": "stream",
          "name": "stdout",
          "text": [
            "Amigos directos de Usuario A (Nivel 1): {'B', 'C'}\n",
            "Amigos de amigos de Usuario A (Nivel 2): {'E', 'G', 'F', 'D'}\n"
          ]
        }
      ],
      "source": [
        "from graphviz import Graph\n",
        "from collections import deque\n",
        "\n",
        "# Creación del grafo de amistades\n",
        "grafo = Graph(comment='Grafo de Amistades')\n",
        "\n",
        "# Definir nodos (usuarios)\n",
        "usuarios = ['A', 'B', 'C', 'D', 'E', 'F', 'G']\n",
        "for usuario in usuarios:\n",
        "    grafo.node(usuario, f'Usuario {usuario}')\n",
        "\n",
        "# Agregar aristas (amistades)\n",
        "amistades = [\n",
        "    ('A', 'B'), ('A', 'C'),  # Amigos directos de Usuario A\n",
        "    ('B', 'D'), ('B', 'E'),  # Amigos de Usuario B (amigos de A)\n",
        "    ('C', 'F'), ('C', 'G')   # Amigos de Usuario C (amigos de A)\n",
        "]\n",
        "\n",
        "for amistad in amistades:\n",
        "    grafo.edge(*amistad)\n",
        "\n",
        "# Guardar y renderizar el grafo visualmente\n",
        "grafo.render('grafo_amistades', format='png')\n",
        "\n",
        "# Implementación de BFS para encontrar amigos\n",
        "def bfs_amigos(grafo_dict, usuario_inicial, nivel=1):\n",
        "    visitados = set()\n",
        "    cola = deque([(usuario_inicial, 0)])  # (usuario, nivel_actual)\n",
        "    amigos = set()\n",
        "\n",
        "    while cola:\n",
        "        usuario_actual, nivel_actual = cola.popleft()\n",
        "\n",
        "        if nivel_actual == nivel:\n",
        "            amigos.add(usuario_actual)\n",
        "            continue\n",
        "\n",
        "        if usuario_actual not in visitados:\n",
        "            visitados.add(usuario_actual)\n",
        "            for vecino in grafo_dict.get(usuario_actual, []):\n",
        "                if vecino not in visitados:\n",
        "                    cola.append((vecino, nivel_actual + 1))\n",
        "\n",
        "    amigos.discard(usuario_inicial)  # Remover el usuario inicial de los resultados\n",
        "    return amigos\n",
        "\n",
        "# Representación del grafo en formato de lista de adyacencia\n",
        "grafo_dict = {\n",
        "    'A': ['B', 'C'],\n",
        "    'B': ['D', 'E'],\n",
        "    'C': ['F', 'G'],\n",
        "    'D': [],\n",
        "    'E': [],\n",
        "    'F': [],\n",
        "    'G': []\n",
        "}\n",
        "\n",
        "# Encontrar amigos directos (nivel 1)\n",
        "amigos_nivel_1 = bfs_amigos(grafo_dict, 'A', nivel=1)\n",
        "print(\"Amigos directos de Usuario A (Nivel 1):\", amigos_nivel_1)\n",
        "\n",
        "# Encontrar amigos de amigos (nivel 2)\n",
        "amigos_nivel_2 = bfs_amigos(grafo_dict, 'A', nivel=2)\n",
        "print(\"Amigos de amigos de Usuario A (Nivel 2):\", amigos_nivel_2)\n"
      ]
    }
  ]
}