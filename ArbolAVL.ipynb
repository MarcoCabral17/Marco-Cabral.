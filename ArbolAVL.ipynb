{
  "nbformat": 4,
  "nbformat_minor": 0,
  "metadata": {
    "colab": {
      "provenance": [],
      "authorship_tag": "ABX9TyOvrOtj9ZYWC/P3LnxvnLCR",
      "include_colab_link": true
    },
    "kernelspec": {
      "name": "python3",
      "display_name": "Python 3"
    },
    "language_info": {
      "name": "python"
    }
  },
  "cells": [
    {
      "cell_type": "markdown",
      "metadata": {
        "id": "view-in-github",
        "colab_type": "text"
      },
      "source": [
        "<a href=\"https://colab.research.google.com/github/MarcoCabral17/Marco-Cabral./blob/main/ArbolAVL.ipynb\" target=\"_parent\"><img src=\"https://colab.research.google.com/assets/colab-badge.svg\" alt=\"Open In Colab\"/></a>"
      ]
    },
    {
      "cell_type": "code",
      "execution_count": 1,
      "metadata": {
        "colab": {
          "base_uri": "https://localhost:8080/",
          "height": 157
        },
        "id": "FiNH2s9ldAx6",
        "outputId": "b5eb72b6-0a86-49f5-f8ae-9de1652c94f1"
      },
      "outputs": [
        {
          "output_type": "stream",
          "name": "stdout",
          "text": [
            "Inorder traversal of the AVL tree is:\n",
            "10\n",
            "11\n",
            "12\n",
            "13\n",
            "14\n",
            "15\n"
          ]
        },
        {
          "output_type": "execute_result",
          "data": {
            "text/plain": [
              "'avl_tree.pdf'"
            ],
            "application/vnd.google.colaboratory.intrinsic+json": {
              "type": "string"
            }
          },
          "metadata": {},
          "execution_count": 1
        }
      ],
      "source": [
        "from graphviz import Digraph\n",
        "\n",
        "# Definir la clase Node\n",
        "class Node(object):\n",
        "    def __init__(self, data):  # Cambié _init_ por __init__\n",
        "        self.data = data\n",
        "        self.left = None\n",
        "        self.right = None\n",
        "        self.height = 1\n",
        "\n",
        "# Definir la clase AVLTree\n",
        "class AVLTree(object):\n",
        "    def insert(self, root, key):\n",
        "        if not root:\n",
        "            return Node(key)\n",
        "        elif key < root.data:\n",
        "            root.left = self.insert(root.left, key)\n",
        "        else:\n",
        "            root.right = self.insert(root.right, key)\n",
        "\n",
        "        root.height = 1 + max(self.getHeight(root.left),\n",
        "                              self.getHeight(root.right))\n",
        "\n",
        "        balance = self.getBalance(root)\n",
        "\n",
        "        if balance > 1 and key < root.left.data:\n",
        "            return self.rightRotate(root)\n",
        "        if balance < -1 and key > root.right.data:\n",
        "            return self.leftRotate(root)\n",
        "        if balance > 1 and key > root.left.data:\n",
        "            root.left = self.leftRotate(root.left)\n",
        "            return self.rightRotate(root)\n",
        "        if balance < -1 and key < root.right.data:\n",
        "            root.right = self.rightRotate(root.right)\n",
        "            return self.leftRotate(root)\n",
        "\n",
        "        return root\n",
        "\n",
        "    def leftRotate(self, z):\n",
        "        y = z.right\n",
        "        T2 = y.left\n",
        "\n",
        "        y.left = z\n",
        "        z.right = T2\n",
        "\n",
        "        z.height = 1 + max(self.getHeight(z.left),\n",
        "                           self.getHeight(z.right))\n",
        "        y.height = 1 + max(self.getHeight(y.left),\n",
        "                           self.getHeight(y.right))\n",
        "\n",
        "        return y\n",
        "\n",
        "    def rightRotate(self, z):\n",
        "        y = z.left\n",
        "        T3 = y.right\n",
        "\n",
        "        y.right = z\n",
        "        z.left = T3\n",
        "\n",
        "        z.height = 1 + max(self.getHeight(z.left),\n",
        "                           self.getHeight(z.right))\n",
        "        y.height = 1 + max(self.getHeight(y.left),\n",
        "                           self.getHeight(y.right))\n",
        "\n",
        "        return y\n",
        "\n",
        "    def getHeight(self, root):\n",
        "        if not root:\n",
        "            return 0\n",
        "        return root.height\n",
        "\n",
        "    def getBalance(self, root):\n",
        "        if not root:\n",
        "            return 0\n",
        "        return self.getHeight(root.left) - self.getHeight(root.right)\n",
        "\n",
        "    def Inorder(self, root):\n",
        "        if root:  # Verificar si root no es None\n",
        "            if root.left:\n",
        "                self.Inorder(root.left)\n",
        "            print(root.data)\n",
        "            if root.right:\n",
        "                self.Inorder(root.right)\n",
        "\n",
        "# Función para agregar nodos al gráfico de graphviz\n",
        "def add_edges(graph, root):\n",
        "    if root.left:\n",
        "        graph.edge(str(root.data), str(root.left.data))  # Agrega arista de root a su hijo izquierdo\n",
        "        add_edges(graph, root.left)\n",
        "    if root.right:\n",
        "        graph.edge(str(root.data), str(root.right.data))  # Agrega arista de root a su hijo derecho\n",
        "        add_edges(graph, root.right)\n",
        "\n",
        "# Función para generar el gráfico del árbol\n",
        "def draw_tree(root):\n",
        "    graph = Digraph()\n",
        "    add_edges(graph, root)  # Agregar nodos y aristas\n",
        "    return graph\n",
        "\n",
        "# Crear el árbol AVL\n",
        "Tree = AVLTree()\n",
        "root = None\n",
        "\n",
        "root = Tree.insert(root, 10)\n",
        "root = Tree.insert(root, 13)\n",
        "root = Tree.insert(root, 11)\n",
        "root = Tree.insert(root, 14)\n",
        "root = Tree.insert(root, 12)\n",
        "root = Tree.insert(root, 15)\n",
        "\n",
        "# Mostrar el recorrido Inorder\n",
        "print(\"Inorder traversal of the AVL tree is:\")\n",
        "Tree.Inorder(root)\n",
        "\n",
        "# Graficar el árbol\n",
        "graph = draw_tree(root)\n",
        "graph.render('avl_tree', format='png')  # Guardar la imagen en formato PNG\n",
        "graph.view()  # Mostrar la imagen\n"
      ]
    }
  ]
}