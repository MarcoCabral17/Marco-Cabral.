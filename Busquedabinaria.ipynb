{
  "nbformat": 4,
  "nbformat_minor": 0,
  "metadata": {
    "colab": {
      "provenance": [],
      "authorship_tag": "ABX9TyM5ejgFa2wkaT39iNz9r7jK",
      "include_colab_link": true
    },
    "kernelspec": {
      "name": "python3",
      "display_name": "Python 3"
    },
    "language_info": {
      "name": "python"
    }
  },
  "cells": [
    {
      "cell_type": "markdown",
      "metadata": {
        "id": "view-in-github",
        "colab_type": "text"
      },
      "source": [
        "<a href=\"https://colab.research.google.com/github/MarcoCabral17/Marco-Cabral./blob/main/Busquedabinaria.ipynb\" target=\"_parent\"><img src=\"https://colab.research.google.com/assets/colab-badge.svg\" alt=\"Open In Colab\"/></a>"
      ]
    },
    {
      "cell_type": "code",
      "execution_count": 4,
      "metadata": {
        "colab": {
          "base_uri": "https://localhost:8080/"
        },
        "id": "9ubwpwGc08wL",
        "outputId": "8b22e18a-80fe-4c27-e34b-a0d8583f3f5b"
      },
      "outputs": [
        {
          "output_type": "stream",
          "name": "stdout",
          "text": [
            "Elemento encontrado en el índice: 6\n"
          ]
        }
      ],
      "source": [
        "import graphviz\n",
        "\n",
        "def busqueda_binaria(lista, objetivo):\n",
        "    # Crear un gráfico para visualizar el proceso\n",
        "    g = graphviz.Digraph('Búsqueda Binaria', format='png')\n",
        "\n",
        "    izquierda = 0\n",
        "    derecha = len(lista) - 1\n",
        "    paso = 1\n",
        "\n",
        "    while izquierda <= derecha:\n",
        "        medio = (izquierda + derecha) // 2\n",
        "\n",
        "        # Agregar nodos al gráfico solo con los números\n",
        "        g.node(f'Paso {paso}', str(lista[medio]))\n",
        "\n",
        "        if lista[medio] == objetivo:\n",
        "            g.node('Encontrado', f'Encontrado: {lista[medio]}')\n",
        "            g.edge(f'Paso {paso}', 'Encontrado')\n",
        "            g.render('busqueda_binaria')  # Generar el archivo PNG\n",
        "            return medio  # Retornar el índice del elemento encontrado\n",
        "\n",
        "        elif lista[medio] < objetivo:\n",
        "            izquierda = medio + 1  # Buscar en la mitad derecha\n",
        "        else:\n",
        "            derecha = medio - 1  # Buscar en la mitad izquierda\n",
        "\n",
        "        paso += 1  # Incrementar el paso para el siguiente nodo\n",
        "        g.edge(f'Paso {paso - 1}', f'Paso {paso}')  # Conectar el paso actual al siguiente paso\n",
        "\n",
        "    # Si no se encontró el objetivo\n",
        "    g.node('No Encontrado', f'Elemento {objetivo} no encontrado')\n",
        "    g.edge(f'Paso {paso - 1}', 'No Encontrado')\n",
        "    g.render('busqueda_binaria')  # Generar el archivo PNG\n",
        "    return -1  # Retornar -1 si no se encuentra el elemento\n",
        "\n",
        "# Ejemplo de uso\n",
        "lista = [5, 10, 15, 20, 25, 30, 35, 40, 45, 50]  # Lista ordenada\n",
        "objetivo = 35  # Cambiar el objetivo a un número que está en la lista\n",
        "resultado = busqueda_binaria(lista, objetivo)\n",
        "\n",
        "if resultado != -1:\n",
        "    print(f'Elemento encontrado en el índice: {resultado}')\n",
        "else:\n",
        "    print('Elemento no encontrado')"
      ]
    }
  ]
}